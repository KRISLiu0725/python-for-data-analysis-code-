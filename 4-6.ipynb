{
 "cells": [
  {
   "cell_type": "code",
   "execution_count": 1,
   "metadata": {},
   "outputs": [],
   "source": [
    "import numpy as np"
   ]
  },
  {
   "cell_type": "code",
   "execution_count": 2,
   "metadata": {},
   "outputs": [
    {
     "data": {
      "text/plain": [
       "array([[ 0.60129417,  1.06310034,  0.50900966, -1.77963025],\n",
       "       [-0.94376796,  1.21106472,  0.72480608,  1.81428621],\n",
       "       [ 0.46049376,  0.95845976, -0.36056022,  0.0057011 ],\n",
       "       [ 0.72199885, -0.41323591, -1.2660648 ,  1.17392785]])"
      ]
     },
     "execution_count": 2,
     "metadata": {},
     "output_type": "execute_result"
    }
   ],
   "source": [
    "#4.6 伪随机数生成\n",
    "samples = np.random.normal(size = (4,4))\n",
    "samples"
   ]
  },
  {
   "cell_type": "code",
   "execution_count": 3,
   "metadata": {},
   "outputs": [
    {
     "name": "stdout",
     "output_type": "stream",
     "text": [
      "577 ms ± 23.7 ms per loop (mean ± std. dev. of 7 runs, 1 loop each)\n"
     ]
    }
   ],
   "source": [
    "from random import normalvariate\n",
    "N = 1000000\n",
    "%timeit samples = [normalvariate(0,1) for _ in range(N)]"
   ]
  },
  {
   "cell_type": "code",
   "execution_count": 4,
   "metadata": {},
   "outputs": [
    {
     "name": "stdout",
     "output_type": "stream",
     "text": [
      "25.1 ms ± 2.41 ms per loop (mean ± std. dev. of 7 runs, 10 loops each)\n"
     ]
    }
   ],
   "source": [
    "%timeit np.random.normal(size=N)\n",
    "#此段代码意为对比python内置的normalvariate函数的速度与numpy库里的normal函数的处理速度\n",
    "#这两个函数的功能一致，都为生成服从正态分布的随机数，总数量为N，100万"
   ]
  },
  {
   "cell_type": "code",
   "execution_count": 8,
   "metadata": {},
   "outputs": [
    {
     "name": "stdout",
     "output_type": "stream",
     "text": [
      "different\n"
     ]
    }
   ],
   "source": [
    "np.random.seed(1234)\n",
    "number1 = np.random.randn()\n",
    "\n",
    "number2 = np.random.randn()\n",
    "\n",
    "if number1 == number2:\n",
    "    print('same')\n",
    "else:\n",
    "    print('different')\n"
   ]
  },
  {
   "cell_type": "code",
   "execution_count": 9,
   "metadata": {},
   "outputs": [
    {
     "data": {
      "text/plain": [
       "array([ 0.47143516, -1.19097569,  1.43270697, -0.3126519 , -0.72058873,\n",
       "        0.88716294,  0.85958841, -0.6365235 ,  0.01569637, -2.24268495])"
      ]
     },
     "execution_count": 9,
     "metadata": {},
     "output_type": "execute_result"
    }
   ],
   "source": [
    "rng = np.random.RandomState(1234)\n",
    "rng.randn(10)\n",
    "#以上这两段代码介绍了两种不同的随机的数字生成方法\n",
    "#第一种是np.random.seed（）方法，通过定义一串种子数，而后生成的数字与种子数有关联，暂不了解其中的生成机制\n",
    "#第二种是np.random.RandomState（），逻辑与第一种方式相同；如果种子数一致，那么随机生成的数字也是一致的\n",
    "#两个函数的区别是，如果使用了第一种方法，影响之后的所有函数；而第二种方法，只影响这一个生成器，不影响其他生成器"
   ]
  }
 ],
 "metadata": {
  "kernelspec": {
   "display_name": "Python 3",
   "language": "python",
   "name": "python3"
  },
  "language_info": {
   "codemirror_mode": {
    "name": "ipython",
    "version": 3
   },
   "file_extension": ".py",
   "mimetype": "text/x-python",
   "name": "python",
   "nbconvert_exporter": "python",
   "pygments_lexer": "ipython3",
   "version": "3.12.4"
  }
 },
 "nbformat": 4,
 "nbformat_minor": 2
}
